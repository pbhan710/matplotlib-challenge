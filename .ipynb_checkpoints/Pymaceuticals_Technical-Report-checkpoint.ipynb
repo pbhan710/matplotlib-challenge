{
 "cells": [
  {
   "cell_type": "markdown",
   "id": "f9bc7cd1",
   "metadata": {},
   "source": [
    "# Top-Level Summary of Study Results\n",
    "*Compare the performance of Pymaceuticals' drug of interest, Capomulin, versus the other treatment regimens.*\n",
    "\n",
    "On average overall, mice treated by Capomulin had a significantly lower tumor volume (mm3) across all timepoints (days) compared to mice treated by other drug regimens across timepoints. \n",
    "- With a mean tumor volume of 40.68 / median tumor volume of 41.56, tumor volumes of mice treated by Capomulin only rivaled that of mice treated by Ramicane, with a mean tumor volume of 40.22 and 40.67.\n",
    "- Notably, mice treated with a placebo drug had a mean tumor volume of 54.03 and median tumor volume of 52.29, both significantly higher than that of mice treated by Capomulin.\n",
    "\n",
    "More days were recorded of mice being treated by Capomulin or Ramicane than any other drug regimen.\n",
    "- This can imply that more mice lived longer when treated by either drug regimen. This is particularly more notable when counting how many mice were recorded at the highest timepoint (45) in this dataset: Capomulin had 21 and Ramicane had 20, the highest compared to other drug regimens (lowest being 7 mice treated by Propiva).\n",
    "\n",
    "When comparing the final tumor volumes of mice across four of the top drug regimens (i.e., Capomulin, Ramicane, Infubinol, Ceftamin), the upper and lower quartiles of final tumor volumes for Capomulin and Ramicane (around 30s to 40s) clearly are much lower than that of Infubinol and Ceftamin (around 50s to 60s).\n",
    "\n",
    "The tumor volume of the sample mouse (Mouse ID: b128) treated by Capomulin slightly lowered from start to finish (45 to 41).\n",
    "\n",
    "There is a strong correlation between mouse weight and the average tumor volume for mice treated by Capomulin (0.84 Pearson correlation coefficient). This may suggest that weight may play a bigger factor in tumor volume than the drug itself. Further analysis and/or future testing would be required to better understand the efficacy of Capomulin by weight."
   ]
  },
  {
   "cell_type": "markdown",
   "id": "3cd25ecd",
   "metadata": {},
   "source": [
    "# Tables and Figures"
   ]
  },
  {
   "cell_type": "markdown",
   "id": "dd249871",
   "metadata": {},
   "source": [
    "## 1. Prepare Data"
   ]
  },
  {
   "cell_type": "markdown",
   "id": "f3caf0b4",
   "metadata": {},
   "source": [
    "- Import dependencies."
   ]
  },
  {
   "cell_type": "code",
   "execution_count": 1,
   "id": "fdb635de",
   "metadata": {},
   "outputs": [],
   "source": [
    "import matplotlib.pyplot as plt\n",
    "import pandas as pd\n",
    "import scipy.stats as st"
   ]
  },
  {
   "cell_type": "markdown",
   "id": "3f59c7a9",
   "metadata": {},
   "source": [
    "- Import data from CSV files into DataFrames."
   ]
  },
  {
   "cell_type": "code",
   "execution_count": 2,
   "id": "bc0dde68",
   "metadata": {},
   "outputs": [],
   "source": [
    "# Store file paths of CSV files into variables.\n",
    "mice_fp = \"data/Mouse_metadata.csv\"\n",
    "rslt_fp = \"data/Study_results.csv\"\n",
    "\n",
    "# Store data into DataFrames.\n",
    "mice_df = pd.read_csv(mice_fp)\n",
    "rslt_df = pd.read_csv(rslt_fp)"
   ]
  },
  {
   "cell_type": "markdown",
   "id": "4d13861e",
   "metadata": {},
   "source": [
    "- Merge the DataFrames into a single DataFrame."
   ]
  },
  {
   "cell_type": "code",
   "execution_count": 3,
   "id": "8ca70d87",
   "metadata": {
    "scrolled": true
   },
   "outputs": [
    {
     "data": {
      "text/html": [
       "<div>\n",
       "<style scoped>\n",
       "    .dataframe tbody tr th:only-of-type {\n",
       "        vertical-align: middle;\n",
       "    }\n",
       "\n",
       "    .dataframe tbody tr th {\n",
       "        vertical-align: top;\n",
       "    }\n",
       "\n",
       "    .dataframe thead th {\n",
       "        text-align: right;\n",
       "    }\n",
       "</style>\n",
       "<table border=\"1\" class=\"dataframe\">\n",
       "  <thead>\n",
       "    <tr style=\"text-align: right;\">\n",
       "      <th></th>\n",
       "      <th>Mouse ID</th>\n",
       "      <th>Timepoint</th>\n",
       "      <th>Tumor Volume (mm3)</th>\n",
       "      <th>Metastatic Sites</th>\n",
       "      <th>Drug Regimen</th>\n",
       "      <th>Sex</th>\n",
       "      <th>Age_months</th>\n",
       "      <th>Weight (g)</th>\n",
       "    </tr>\n",
       "  </thead>\n",
       "  <tbody>\n",
       "    <tr>\n",
       "      <th>0</th>\n",
       "      <td>b128</td>\n",
       "      <td>0</td>\n",
       "      <td>45.0</td>\n",
       "      <td>0</td>\n",
       "      <td>Capomulin</td>\n",
       "      <td>Female</td>\n",
       "      <td>9</td>\n",
       "      <td>22</td>\n",
       "    </tr>\n",
       "    <tr>\n",
       "      <th>1</th>\n",
       "      <td>f932</td>\n",
       "      <td>0</td>\n",
       "      <td>45.0</td>\n",
       "      <td>0</td>\n",
       "      <td>Ketapril</td>\n",
       "      <td>Male</td>\n",
       "      <td>15</td>\n",
       "      <td>29</td>\n",
       "    </tr>\n",
       "    <tr>\n",
       "      <th>2</th>\n",
       "      <td>g107</td>\n",
       "      <td>0</td>\n",
       "      <td>45.0</td>\n",
       "      <td>0</td>\n",
       "      <td>Ketapril</td>\n",
       "      <td>Female</td>\n",
       "      <td>2</td>\n",
       "      <td>29</td>\n",
       "    </tr>\n",
       "    <tr>\n",
       "      <th>3</th>\n",
       "      <td>a457</td>\n",
       "      <td>0</td>\n",
       "      <td>45.0</td>\n",
       "      <td>0</td>\n",
       "      <td>Ketapril</td>\n",
       "      <td>Female</td>\n",
       "      <td>11</td>\n",
       "      <td>30</td>\n",
       "    </tr>\n",
       "    <tr>\n",
       "      <th>4</th>\n",
       "      <td>c819</td>\n",
       "      <td>0</td>\n",
       "      <td>45.0</td>\n",
       "      <td>0</td>\n",
       "      <td>Ketapril</td>\n",
       "      <td>Male</td>\n",
       "      <td>21</td>\n",
       "      <td>25</td>\n",
       "    </tr>\n",
       "  </tbody>\n",
       "</table>\n",
       "</div>"
      ],
      "text/plain": [
       "  Mouse ID  Timepoint  Tumor Volume (mm3)  Metastatic Sites Drug Regimen  \\\n",
       "0     b128          0                45.0                 0    Capomulin   \n",
       "1     f932          0                45.0                 0     Ketapril   \n",
       "2     g107          0                45.0                 0     Ketapril   \n",
       "3     a457          0                45.0                 0     Ketapril   \n",
       "4     c819          0                45.0                 0     Ketapril   \n",
       "\n",
       "      Sex  Age_months  Weight (g)  \n",
       "0  Female           9          22  \n",
       "1    Male          15          29  \n",
       "2  Female           2          29  \n",
       "3  Female          11          30  \n",
       "4    Male          21          25  "
      ]
     },
     "execution_count": 3,
     "metadata": {},
     "output_type": "execute_result"
    }
   ],
   "source": [
    "merged_df = pd.merge(\n",
    "    rslt_df, \n",
    "    mice_df, \n",
    "    how = 'left', \n",
    "    on = 'Mouse ID'\n",
    ")\n",
    "merged_df.head()"
   ]
  },
  {
   "cell_type": "markdown",
   "id": "7411418b",
   "metadata": {},
   "source": [
    "- Display the number of unique mice IDs in the data."
   ]
  },
  {
   "cell_type": "code",
   "execution_count": 4,
   "id": "67a5cbbd",
   "metadata": {},
   "outputs": [
    {
     "data": {
      "text/plain": [
       "249"
      ]
     },
     "execution_count": 4,
     "metadata": {},
     "output_type": "execute_result"
    }
   ],
   "source": [
    "len(merged_df['Mouse ID'].unique())"
   ]
  },
  {
   "cell_type": "markdown",
   "id": "1713c165",
   "metadata": {},
   "source": [
    "- Check for any mice ID with duplicate Timepoints."
   ]
  },
  {
   "cell_type": "code",
   "execution_count": 5,
   "id": "9aea70b5",
   "metadata": {
    "scrolled": false
   },
   "outputs": [
    {
     "data": {
      "text/plain": [
       "array(['g989'], dtype=object)"
      ]
     },
     "execution_count": 5,
     "metadata": {},
     "output_type": "execute_result"
    }
   ],
   "source": [
    "# Create boolean Series denoting duplicate Mouse IDs.\n",
    "dup_mice_tp_ser = merged_df[['Mouse ID', 'Timepoint']].duplicated(keep = False)\n",
    "\n",
    "# Create and display NumPy array of all Mouse IDs that had duplicate time points.\n",
    "dup_mice_tp_arr = merged_df['Mouse ID'][dup_mice_tp_ser == True].unique()\n",
    "dup_mice_tp_arr"
   ]
  },
  {
   "cell_type": "markdown",
   "id": "b3622cfa",
   "metadata": {},
   "source": [
    "- Display data associated with those mice IDs."
   ]
  },
  {
   "cell_type": "code",
   "execution_count": 6,
   "id": "48a09dab",
   "metadata": {},
   "outputs": [
    {
     "data": {
      "text/html": [
       "<div>\n",
       "<style scoped>\n",
       "    .dataframe tbody tr th:only-of-type {\n",
       "        vertical-align: middle;\n",
       "    }\n",
       "\n",
       "    .dataframe tbody tr th {\n",
       "        vertical-align: top;\n",
       "    }\n",
       "\n",
       "    .dataframe thead th {\n",
       "        text-align: right;\n",
       "    }\n",
       "</style>\n",
       "<table border=\"1\" class=\"dataframe\">\n",
       "  <thead>\n",
       "    <tr style=\"text-align: right;\">\n",
       "      <th></th>\n",
       "      <th>Mouse ID</th>\n",
       "      <th>Timepoint</th>\n",
       "      <th>Tumor Volume (mm3)</th>\n",
       "      <th>Metastatic Sites</th>\n",
       "      <th>Drug Regimen</th>\n",
       "      <th>Sex</th>\n",
       "      <th>Age_months</th>\n",
       "      <th>Weight (g)</th>\n",
       "    </tr>\n",
       "  </thead>\n",
       "  <tbody>\n",
       "    <tr>\n",
       "      <th>107</th>\n",
       "      <td>g989</td>\n",
       "      <td>0</td>\n",
       "      <td>45.000000</td>\n",
       "      <td>0</td>\n",
       "      <td>Propriva</td>\n",
       "      <td>Female</td>\n",
       "      <td>21</td>\n",
       "      <td>26</td>\n",
       "    </tr>\n",
       "    <tr>\n",
       "      <th>137</th>\n",
       "      <td>g989</td>\n",
       "      <td>0</td>\n",
       "      <td>45.000000</td>\n",
       "      <td>0</td>\n",
       "      <td>Propriva</td>\n",
       "      <td>Female</td>\n",
       "      <td>21</td>\n",
       "      <td>26</td>\n",
       "    </tr>\n",
       "    <tr>\n",
       "      <th>329</th>\n",
       "      <td>g989</td>\n",
       "      <td>5</td>\n",
       "      <td>48.786801</td>\n",
       "      <td>0</td>\n",
       "      <td>Propriva</td>\n",
       "      <td>Female</td>\n",
       "      <td>21</td>\n",
       "      <td>26</td>\n",
       "    </tr>\n",
       "    <tr>\n",
       "      <th>360</th>\n",
       "      <td>g989</td>\n",
       "      <td>5</td>\n",
       "      <td>47.570392</td>\n",
       "      <td>0</td>\n",
       "      <td>Propriva</td>\n",
       "      <td>Female</td>\n",
       "      <td>21</td>\n",
       "      <td>26</td>\n",
       "    </tr>\n",
       "    <tr>\n",
       "      <th>620</th>\n",
       "      <td>g989</td>\n",
       "      <td>10</td>\n",
       "      <td>51.745156</td>\n",
       "      <td>0</td>\n",
       "      <td>Propriva</td>\n",
       "      <td>Female</td>\n",
       "      <td>21</td>\n",
       "      <td>26</td>\n",
       "    </tr>\n",
       "    <tr>\n",
       "      <th>681</th>\n",
       "      <td>g989</td>\n",
       "      <td>10</td>\n",
       "      <td>49.880528</td>\n",
       "      <td>0</td>\n",
       "      <td>Propriva</td>\n",
       "      <td>Female</td>\n",
       "      <td>21</td>\n",
       "      <td>26</td>\n",
       "    </tr>\n",
       "    <tr>\n",
       "      <th>815</th>\n",
       "      <td>g989</td>\n",
       "      <td>15</td>\n",
       "      <td>51.325852</td>\n",
       "      <td>1</td>\n",
       "      <td>Propriva</td>\n",
       "      <td>Female</td>\n",
       "      <td>21</td>\n",
       "      <td>26</td>\n",
       "    </tr>\n",
       "    <tr>\n",
       "      <th>869</th>\n",
       "      <td>g989</td>\n",
       "      <td>15</td>\n",
       "      <td>53.442020</td>\n",
       "      <td>0</td>\n",
       "      <td>Propriva</td>\n",
       "      <td>Female</td>\n",
       "      <td>21</td>\n",
       "      <td>26</td>\n",
       "    </tr>\n",
       "    <tr>\n",
       "      <th>950</th>\n",
       "      <td>g989</td>\n",
       "      <td>20</td>\n",
       "      <td>55.326122</td>\n",
       "      <td>1</td>\n",
       "      <td>Propriva</td>\n",
       "      <td>Female</td>\n",
       "      <td>21</td>\n",
       "      <td>26</td>\n",
       "    </tr>\n",
       "    <tr>\n",
       "      <th>1111</th>\n",
       "      <td>g989</td>\n",
       "      <td>20</td>\n",
       "      <td>54.657650</td>\n",
       "      <td>1</td>\n",
       "      <td>Propriva</td>\n",
       "      <td>Female</td>\n",
       "      <td>21</td>\n",
       "      <td>26</td>\n",
       "    </tr>\n",
       "    <tr>\n",
       "      <th>1195</th>\n",
       "      <td>g989</td>\n",
       "      <td>25</td>\n",
       "      <td>56.045564</td>\n",
       "      <td>1</td>\n",
       "      <td>Propriva</td>\n",
       "      <td>Female</td>\n",
       "      <td>21</td>\n",
       "      <td>26</td>\n",
       "    </tr>\n",
       "    <tr>\n",
       "      <th>1380</th>\n",
       "      <td>g989</td>\n",
       "      <td>30</td>\n",
       "      <td>59.082294</td>\n",
       "      <td>1</td>\n",
       "      <td>Propriva</td>\n",
       "      <td>Female</td>\n",
       "      <td>21</td>\n",
       "      <td>26</td>\n",
       "    </tr>\n",
       "    <tr>\n",
       "      <th>1592</th>\n",
       "      <td>g989</td>\n",
       "      <td>35</td>\n",
       "      <td>62.570880</td>\n",
       "      <td>2</td>\n",
       "      <td>Propriva</td>\n",
       "      <td>Female</td>\n",
       "      <td>21</td>\n",
       "      <td>26</td>\n",
       "    </tr>\n",
       "  </tbody>\n",
       "</table>\n",
       "</div>"
      ],
      "text/plain": [
       "     Mouse ID  Timepoint  Tumor Volume (mm3)  Metastatic Sites Drug Regimen  \\\n",
       "107      g989          0           45.000000                 0     Propriva   \n",
       "137      g989          0           45.000000                 0     Propriva   \n",
       "329      g989          5           48.786801                 0     Propriva   \n",
       "360      g989          5           47.570392                 0     Propriva   \n",
       "620      g989         10           51.745156                 0     Propriva   \n",
       "681      g989         10           49.880528                 0     Propriva   \n",
       "815      g989         15           51.325852                 1     Propriva   \n",
       "869      g989         15           53.442020                 0     Propriva   \n",
       "950      g989         20           55.326122                 1     Propriva   \n",
       "1111     g989         20           54.657650                 1     Propriva   \n",
       "1195     g989         25           56.045564                 1     Propriva   \n",
       "1380     g989         30           59.082294                 1     Propriva   \n",
       "1592     g989         35           62.570880                 2     Propriva   \n",
       "\n",
       "         Sex  Age_months  Weight (g)  \n",
       "107   Female          21          26  \n",
       "137   Female          21          26  \n",
       "329   Female          21          26  \n",
       "360   Female          21          26  \n",
       "620   Female          21          26  \n",
       "681   Female          21          26  \n",
       "815   Female          21          26  \n",
       "869   Female          21          26  \n",
       "950   Female          21          26  \n",
       "1111  Female          21          26  \n",
       "1195  Female          21          26  \n",
       "1380  Female          21          26  \n",
       "1592  Female          21          26  "
      ]
     },
     "execution_count": 6,
     "metadata": {},
     "output_type": "execute_result"
    }
   ],
   "source": [
    "merged_df[merged_df['Mouse ID'].isin(dup_mice_tp_arr) == True]"
   ]
  },
  {
   "cell_type": "markdown",
   "id": "b05db131",
   "metadata": {},
   "source": [
    "- Create a new DataFrame where these Mice IDs are removed."
   ]
  },
  {
   "cell_type": "code",
   "execution_count": 60,
   "id": "c4a5e3a8",
   "metadata": {
    "scrolled": false
   },
   "outputs": [
    {
     "data": {
      "text/html": [
       "<div>\n",
       "<style scoped>\n",
       "    .dataframe tbody tr th:only-of-type {\n",
       "        vertical-align: middle;\n",
       "    }\n",
       "\n",
       "    .dataframe tbody tr th {\n",
       "        vertical-align: top;\n",
       "    }\n",
       "\n",
       "    .dataframe thead th {\n",
       "        text-align: right;\n",
       "    }\n",
       "</style>\n",
       "<table border=\"1\" class=\"dataframe\">\n",
       "  <thead>\n",
       "    <tr style=\"text-align: right;\">\n",
       "      <th></th>\n",
       "      <th>Mouse ID</th>\n",
       "      <th>Timepoint</th>\n",
       "      <th>Tumor Volume (mm3)</th>\n",
       "      <th>Metastatic Sites</th>\n",
       "      <th>Drug Regimen</th>\n",
       "      <th>Sex</th>\n",
       "      <th>Age_months</th>\n",
       "      <th>Weight (g)</th>\n",
       "    </tr>\n",
       "  </thead>\n",
       "  <tbody>\n",
       "    <tr>\n",
       "      <th>0</th>\n",
       "      <td>b128</td>\n",
       "      <td>0</td>\n",
       "      <td>45.0</td>\n",
       "      <td>0</td>\n",
       "      <td>Capomulin</td>\n",
       "      <td>Female</td>\n",
       "      <td>9</td>\n",
       "      <td>22</td>\n",
       "    </tr>\n",
       "    <tr>\n",
       "      <th>1</th>\n",
       "      <td>f932</td>\n",
       "      <td>0</td>\n",
       "      <td>45.0</td>\n",
       "      <td>0</td>\n",
       "      <td>Ketapril</td>\n",
       "      <td>Male</td>\n",
       "      <td>15</td>\n",
       "      <td>29</td>\n",
       "    </tr>\n",
       "    <tr>\n",
       "      <th>2</th>\n",
       "      <td>g107</td>\n",
       "      <td>0</td>\n",
       "      <td>45.0</td>\n",
       "      <td>0</td>\n",
       "      <td>Ketapril</td>\n",
       "      <td>Female</td>\n",
       "      <td>2</td>\n",
       "      <td>29</td>\n",
       "    </tr>\n",
       "    <tr>\n",
       "      <th>3</th>\n",
       "      <td>a457</td>\n",
       "      <td>0</td>\n",
       "      <td>45.0</td>\n",
       "      <td>0</td>\n",
       "      <td>Ketapril</td>\n",
       "      <td>Female</td>\n",
       "      <td>11</td>\n",
       "      <td>30</td>\n",
       "    </tr>\n",
       "    <tr>\n",
       "      <th>4</th>\n",
       "      <td>c819</td>\n",
       "      <td>0</td>\n",
       "      <td>45.0</td>\n",
       "      <td>0</td>\n",
       "      <td>Ketapril</td>\n",
       "      <td>Male</td>\n",
       "      <td>21</td>\n",
       "      <td>25</td>\n",
       "    </tr>\n",
       "  </tbody>\n",
       "</table>\n",
       "</div>"
      ],
      "text/plain": [
       "  Mouse ID  Timepoint  Tumor Volume (mm3)  Metastatic Sites Drug Regimen  \\\n",
       "0     b128          0                45.0                 0    Capomulin   \n",
       "1     f932          0                45.0                 0     Ketapril   \n",
       "2     g107          0                45.0                 0     Ketapril   \n",
       "3     a457          0                45.0                 0     Ketapril   \n",
       "4     c819          0                45.0                 0     Ketapril   \n",
       "\n",
       "      Sex  Age_months  Weight (g)  \n",
       "0  Female           9          22  \n",
       "1    Male          15          29  \n",
       "2  Female           2          29  \n",
       "3  Female          11          30  \n",
       "4    Male          21          25  "
      ]
     },
     "execution_count": 60,
     "metadata": {},
     "output_type": "execute_result"
    }
   ],
   "source": [
    "df = merged_df[merged_df['Mouse ID'].isin(dup_mice_tp_arr) == False]\n",
    "\n",
    "# Display cleaned DataFrame.\n",
    "df.head()"
   ]
  },
  {
   "cell_type": "markdown",
   "id": "1ef461c8",
   "metadata": {},
   "source": [
    "- Display the updated number of unique mice IDs."
   ]
  },
  {
   "cell_type": "code",
   "execution_count": 8,
   "id": "5ade983a",
   "metadata": {},
   "outputs": [
    {
     "data": {
      "text/plain": [
       "248"
      ]
     },
     "execution_count": 8,
     "metadata": {},
     "output_type": "execute_result"
    }
   ],
   "source": [
    "len(df['Mouse ID'].unique())"
   ]
  },
  {
   "cell_type": "markdown",
   "id": "d9d0db08",
   "metadata": {},
   "source": [
    "## 2. Generate Summary Statistics\n",
    "Create two summary statistics DataFrames:\n",
    "- For the first table, use the `groupby` method to generate the mean, median, variance, standard deviation, and SEM of the tumor volume for each drug regimen. This should result in five unique series objects.\n",
    "- For the second table, use the `agg` method to produce the same summary statistics table by using a single line of code."
   ]
  },
  {
   "cell_type": "markdown",
   "id": "7379af74",
   "metadata": {},
   "source": [
    "**First Table: `groupby` Method**"
   ]
  },
  {
   "cell_type": "markdown",
   "id": "18c6b13f",
   "metadata": {},
   "source": [
    "- Create DataFrameGroupBy object on Drug Regimen."
   ]
  },
  {
   "cell_type": "code",
   "execution_count": 9,
   "id": "113d4b53",
   "metadata": {},
   "outputs": [],
   "source": [
    "dg_grp = df.groupby('Drug Regimen')"
   ]
  },
  {
   "cell_type": "markdown",
   "id": "ae01cd60",
   "metadata": {},
   "source": [
    "- Generate Series objects of summary statistics of Tumor Volume for each Drug Regimen."
   ]
  },
  {
   "cell_type": "code",
   "execution_count": 10,
   "id": "703b58d8",
   "metadata": {},
   "outputs": [],
   "source": [
    "# Generate mean of Tumor Volume (mm3) by Drug Regimen.\n",
    "mean_tvol_by_dg = dg_grp['Tumor Volume (mm3)'].mean()\n",
    "\n",
    "# Generate median of Tumor Volume (mm3) by Drug Regimen.\n",
    "med_tvol_by_dg = dg_grp['Tumor Volume (mm3)'].median()\n",
    "\n",
    "# Generate variance of Tumor Volume (mm3) by Drug Regimen.\n",
    "var_tvol_by_dg = dg_grp['Tumor Volume (mm3)'].var()\n",
    "\n",
    "# Generate standard deviation of Tumor Volume (mm3) by Drug Regimen.\n",
    "std_tvol_by_dg = dg_grp['Tumor Volume (mm3)'].std()\n",
    "\n",
    "# Generate standard error of the mean (SEM) of Tumor Volume (mm3) by Drug Regimen.\n",
    "sem_tvol_by_dg = dg_grp['Tumor Volume (mm3)'].sem()"
   ]
  },
  {
   "cell_type": "markdown",
   "id": "367bd135",
   "metadata": {},
   "source": [
    "- Combine these objects into a single summary statistics DataFrames."
   ]
  },
  {
   "cell_type": "code",
   "execution_count": 40,
   "id": "4b87f7f1",
   "metadata": {},
   "outputs": [],
   "source": [
    "dg_by_tvol_stats_df = pd.DataFrame({\n",
    "    'Mean Tumor Volume': mean_tvol_by_dg,\n",
    "    'Median Tumor Volume': med_tvol_by_dg,\n",
    "    'Tumor Volume Variance': var_tvol_by_dg,\n",
    "    'Tumor Volume Std. Dev.': std_tvol_by_dg,\n",
    "    'Tumor Volume Std. Err.': sem_tvol_by_dg\n",
    "})"
   ]
  },
  {
   "cell_type": "markdown",
   "id": "391aea46",
   "metadata": {},
   "source": [
    "- Display summary statistics of Tumor Volume by Drug Regimen."
   ]
  },
  {
   "cell_type": "code",
   "execution_count": 12,
   "id": "7e3d90d7",
   "metadata": {
    "scrolled": false
   },
   "outputs": [
    {
     "data": {
      "text/html": [
       "<div>\n",
       "<style scoped>\n",
       "    .dataframe tbody tr th:only-of-type {\n",
       "        vertical-align: middle;\n",
       "    }\n",
       "\n",
       "    .dataframe tbody tr th {\n",
       "        vertical-align: top;\n",
       "    }\n",
       "\n",
       "    .dataframe thead th {\n",
       "        text-align: right;\n",
       "    }\n",
       "</style>\n",
       "<table border=\"1\" class=\"dataframe\">\n",
       "  <thead>\n",
       "    <tr style=\"text-align: right;\">\n",
       "      <th></th>\n",
       "      <th>Mean Tumor Volume</th>\n",
       "      <th>Median Tumor Volume</th>\n",
       "      <th>Tumor Volume Variance</th>\n",
       "      <th>Tumor Volume Std. Dev.</th>\n",
       "      <th>Tumor Volume Stf. Err.</th>\n",
       "    </tr>\n",
       "    <tr>\n",
       "      <th>Drug Regimen</th>\n",
       "      <th></th>\n",
       "      <th></th>\n",
       "      <th></th>\n",
       "      <th></th>\n",
       "      <th></th>\n",
       "    </tr>\n",
       "  </thead>\n",
       "  <tbody>\n",
       "    <tr>\n",
       "      <th>Capomulin</th>\n",
       "      <td>40.675741</td>\n",
       "      <td>41.557809</td>\n",
       "      <td>24.947764</td>\n",
       "      <td>4.994774</td>\n",
       "      <td>0.329346</td>\n",
       "    </tr>\n",
       "    <tr>\n",
       "      <th>Ceftamin</th>\n",
       "      <td>52.591172</td>\n",
       "      <td>51.776157</td>\n",
       "      <td>39.290177</td>\n",
       "      <td>6.268188</td>\n",
       "      <td>0.469821</td>\n",
       "    </tr>\n",
       "    <tr>\n",
       "      <th>Infubinol</th>\n",
       "      <td>52.884795</td>\n",
       "      <td>51.820584</td>\n",
       "      <td>43.128684</td>\n",
       "      <td>6.567243</td>\n",
       "      <td>0.492236</td>\n",
       "    </tr>\n",
       "    <tr>\n",
       "      <th>Ketapril</th>\n",
       "      <td>55.235638</td>\n",
       "      <td>53.698743</td>\n",
       "      <td>68.553577</td>\n",
       "      <td>8.279709</td>\n",
       "      <td>0.603860</td>\n",
       "    </tr>\n",
       "    <tr>\n",
       "      <th>Naftisol</th>\n",
       "      <td>54.331565</td>\n",
       "      <td>52.509285</td>\n",
       "      <td>66.173479</td>\n",
       "      <td>8.134708</td>\n",
       "      <td>0.596466</td>\n",
       "    </tr>\n",
       "    <tr>\n",
       "      <th>Placebo</th>\n",
       "      <td>54.033581</td>\n",
       "      <td>52.288934</td>\n",
       "      <td>61.168083</td>\n",
       "      <td>7.821003</td>\n",
       "      <td>0.581331</td>\n",
       "    </tr>\n",
       "    <tr>\n",
       "      <th>Propriva</th>\n",
       "      <td>52.320930</td>\n",
       "      <td>50.446266</td>\n",
       "      <td>43.852013</td>\n",
       "      <td>6.622085</td>\n",
       "      <td>0.544332</td>\n",
       "    </tr>\n",
       "    <tr>\n",
       "      <th>Ramicane</th>\n",
       "      <td>40.216745</td>\n",
       "      <td>40.673236</td>\n",
       "      <td>23.486704</td>\n",
       "      <td>4.846308</td>\n",
       "      <td>0.320955</td>\n",
       "    </tr>\n",
       "    <tr>\n",
       "      <th>Stelasyn</th>\n",
       "      <td>54.233149</td>\n",
       "      <td>52.431737</td>\n",
       "      <td>59.450562</td>\n",
       "      <td>7.710419</td>\n",
       "      <td>0.573111</td>\n",
       "    </tr>\n",
       "    <tr>\n",
       "      <th>Zoniferol</th>\n",
       "      <td>53.236507</td>\n",
       "      <td>51.818479</td>\n",
       "      <td>48.533355</td>\n",
       "      <td>6.966589</td>\n",
       "      <td>0.516398</td>\n",
       "    </tr>\n",
       "  </tbody>\n",
       "</table>\n",
       "</div>"
      ],
      "text/plain": [
       "              Mean Tumor Volume  Median Tumor Volume  Tumor Volume Variance  \\\n",
       "Drug Regimen                                                                  \n",
       "Capomulin             40.675741            41.557809              24.947764   \n",
       "Ceftamin              52.591172            51.776157              39.290177   \n",
       "Infubinol             52.884795            51.820584              43.128684   \n",
       "Ketapril              55.235638            53.698743              68.553577   \n",
       "Naftisol              54.331565            52.509285              66.173479   \n",
       "Placebo               54.033581            52.288934              61.168083   \n",
       "Propriva              52.320930            50.446266              43.852013   \n",
       "Ramicane              40.216745            40.673236              23.486704   \n",
       "Stelasyn              54.233149            52.431737              59.450562   \n",
       "Zoniferol             53.236507            51.818479              48.533355   \n",
       "\n",
       "              Tumor Volume Std. Dev.  Tumor Volume Stf. Err.  \n",
       "Drug Regimen                                                  \n",
       "Capomulin                   4.994774                0.329346  \n",
       "Ceftamin                    6.268188                0.469821  \n",
       "Infubinol                   6.567243                0.492236  \n",
       "Ketapril                    8.279709                0.603860  \n",
       "Naftisol                    8.134708                0.596466  \n",
       "Placebo                     7.821003                0.581331  \n",
       "Propriva                    6.622085                0.544332  \n",
       "Ramicane                    4.846308                0.320955  \n",
       "Stelasyn                    7.710419                0.573111  \n",
       "Zoniferol                   6.966589                0.516398  "
      ]
     },
     "execution_count": 12,
     "metadata": {},
     "output_type": "execute_result"
    }
   ],
   "source": [
    "dg_by_tvol_stats_df"
   ]
  },
  {
   "cell_type": "markdown",
   "id": "510b26db",
   "metadata": {},
   "source": [
    "**Second Table: `agg` Method**"
   ]
  },
  {
   "cell_type": "code",
   "execution_count": 13,
   "id": "23102e49",
   "metadata": {
    "scrolled": false
   },
   "outputs": [
    {
     "data": {
      "text/html": [
       "<div>\n",
       "<style scoped>\n",
       "    .dataframe tbody tr th:only-of-type {\n",
       "        vertical-align: middle;\n",
       "    }\n",
       "\n",
       "    .dataframe tbody tr th {\n",
       "        vertical-align: top;\n",
       "    }\n",
       "\n",
       "    .dataframe thead th {\n",
       "        text-align: right;\n",
       "    }\n",
       "</style>\n",
       "<table border=\"1\" class=\"dataframe\">\n",
       "  <thead>\n",
       "    <tr style=\"text-align: right;\">\n",
       "      <th></th>\n",
       "      <th>Mean Tumor Volume</th>\n",
       "      <th>Median Tumor Volume</th>\n",
       "      <th>Tumor Volume Variance</th>\n",
       "      <th>Tumor Volume Std. Deviation</th>\n",
       "      <th>Tumor Volume Std. Error</th>\n",
       "    </tr>\n",
       "    <tr>\n",
       "      <th>Drug Regimen</th>\n",
       "      <th></th>\n",
       "      <th></th>\n",
       "      <th></th>\n",
       "      <th></th>\n",
       "      <th></th>\n",
       "    </tr>\n",
       "  </thead>\n",
       "  <tbody>\n",
       "    <tr>\n",
       "      <th>Capomulin</th>\n",
       "      <td>40.675741</td>\n",
       "      <td>41.557809</td>\n",
       "      <td>24.947764</td>\n",
       "      <td>4.994774</td>\n",
       "      <td>0.329346</td>\n",
       "    </tr>\n",
       "    <tr>\n",
       "      <th>Ceftamin</th>\n",
       "      <td>52.591172</td>\n",
       "      <td>51.776157</td>\n",
       "      <td>39.290177</td>\n",
       "      <td>6.268188</td>\n",
       "      <td>0.469821</td>\n",
       "    </tr>\n",
       "    <tr>\n",
       "      <th>Infubinol</th>\n",
       "      <td>52.884795</td>\n",
       "      <td>51.820584</td>\n",
       "      <td>43.128684</td>\n",
       "      <td>6.567243</td>\n",
       "      <td>0.492236</td>\n",
       "    </tr>\n",
       "    <tr>\n",
       "      <th>Ketapril</th>\n",
       "      <td>55.235638</td>\n",
       "      <td>53.698743</td>\n",
       "      <td>68.553577</td>\n",
       "      <td>8.279709</td>\n",
       "      <td>0.603860</td>\n",
       "    </tr>\n",
       "    <tr>\n",
       "      <th>Naftisol</th>\n",
       "      <td>54.331565</td>\n",
       "      <td>52.509285</td>\n",
       "      <td>66.173479</td>\n",
       "      <td>8.134708</td>\n",
       "      <td>0.596466</td>\n",
       "    </tr>\n",
       "    <tr>\n",
       "      <th>Placebo</th>\n",
       "      <td>54.033581</td>\n",
       "      <td>52.288934</td>\n",
       "      <td>61.168083</td>\n",
       "      <td>7.821003</td>\n",
       "      <td>0.581331</td>\n",
       "    </tr>\n",
       "    <tr>\n",
       "      <th>Propriva</th>\n",
       "      <td>52.320930</td>\n",
       "      <td>50.446266</td>\n",
       "      <td>43.852013</td>\n",
       "      <td>6.622085</td>\n",
       "      <td>0.544332</td>\n",
       "    </tr>\n",
       "    <tr>\n",
       "      <th>Ramicane</th>\n",
       "      <td>40.216745</td>\n",
       "      <td>40.673236</td>\n",
       "      <td>23.486704</td>\n",
       "      <td>4.846308</td>\n",
       "      <td>0.320955</td>\n",
       "    </tr>\n",
       "    <tr>\n",
       "      <th>Stelasyn</th>\n",
       "      <td>54.233149</td>\n",
       "      <td>52.431737</td>\n",
       "      <td>59.450562</td>\n",
       "      <td>7.710419</td>\n",
       "      <td>0.573111</td>\n",
       "    </tr>\n",
       "    <tr>\n",
       "      <th>Zoniferol</th>\n",
       "      <td>53.236507</td>\n",
       "      <td>51.818479</td>\n",
       "      <td>48.533355</td>\n",
       "      <td>6.966589</td>\n",
       "      <td>0.516398</td>\n",
       "    </tr>\n",
       "  </tbody>\n",
       "</table>\n",
       "</div>"
      ],
      "text/plain": [
       "              Mean Tumor Volume  Median Tumor Volume  Tumor Volume Variance  \\\n",
       "Drug Regimen                                                                  \n",
       "Capomulin             40.675741            41.557809              24.947764   \n",
       "Ceftamin              52.591172            51.776157              39.290177   \n",
       "Infubinol             52.884795            51.820584              43.128684   \n",
       "Ketapril              55.235638            53.698743              68.553577   \n",
       "Naftisol              54.331565            52.509285              66.173479   \n",
       "Placebo               54.033581            52.288934              61.168083   \n",
       "Propriva              52.320930            50.446266              43.852013   \n",
       "Ramicane              40.216745            40.673236              23.486704   \n",
       "Stelasyn              54.233149            52.431737              59.450562   \n",
       "Zoniferol             53.236507            51.818479              48.533355   \n",
       "\n",
       "              Tumor Volume Std. Deviation  Tumor Volume Std. Error  \n",
       "Drug Regimen                                                        \n",
       "Capomulin                        4.994774                 0.329346  \n",
       "Ceftamin                         6.268188                 0.469821  \n",
       "Infubinol                        6.567243                 0.492236  \n",
       "Ketapril                         8.279709                 0.603860  \n",
       "Naftisol                         8.134708                 0.596466  \n",
       "Placebo                          7.821003                 0.581331  \n",
       "Propriva                         6.622085                 0.544332  \n",
       "Ramicane                         4.846308                 0.320955  \n",
       "Stelasyn                         7.710419                 0.573111  \n",
       "Zoniferol                        6.966589                 0.516398  "
      ]
     },
     "execution_count": 13,
     "metadata": {},
     "output_type": "execute_result"
    }
   ],
   "source": [
    "# Dictionary unpacking (**): Unpacks the contents of a dictionary into the function call.\n",
    "# Used to fully control name of each summary statistic, namely to add spaces.\n",
    "dg_grp.agg(**{\n",
    "    'Mean Tumor Volume': pd.NamedAgg(column = 'Tumor Volume (mm3)', aggfunc = 'mean'),\n",
    "    'Median Tumor Volume': pd.NamedAgg(column = 'Tumor Volume (mm3)', aggfunc = 'median'),\n",
    "    'Tumor Volume Variance': pd.NamedAgg(column = 'Tumor Volume (mm3)', aggfunc = 'var'),\n",
    "    'Tumor Volume Std. Deviation': pd.NamedAgg(column = 'Tumor Volume (mm3)', aggfunc = 'std'),\n",
    "    'Tumor Volume Std. Error': pd.NamedAgg(column = 'Tumor Volume (mm3)', aggfunc = 'sem'),\n",
    "})"
   ]
  },
  {
   "cell_type": "markdown",
   "id": "b57515dc",
   "metadata": {},
   "source": [
    "## 3. Create Bar Charts and Pie Charts\n",
    "\n",
    "### Bar Charts\n",
    "Generate two bar plots. Both plots should be identical and show the total number of Timepoints for all mice tested for each Drug Regimen throughout the course of the study.\n",
    "- Create the first bar plot by using Pandas's DataFrame.plot() method.\n",
    "- Create the second bar plot by using Matplotlib's pyplot methods."
   ]
  },
  {
   "cell_type": "code",
   "execution_count": 14,
   "id": "25978f80",
   "metadata": {},
   "outputs": [],
   "source": [
    "# Generate Series of total number of Timepoints for all mice tested for each Drug Regimen.\n",
    "ttl_tp_by_dg = dg_grp['Timepoint'].count()\n",
    "\n",
    "# Sort Series, descending.\n",
    "ttl_tp_by_dg = ttl_tp_by_dg.sort_values(ascending = False)"
   ]
  },
  {
   "cell_type": "markdown",
   "id": "8a2bd407",
   "metadata": {},
   "source": [
    "**First Bar Plot: Pandas's `DataFrame.plot()` Method**"
   ]
  },
  {
   "cell_type": "code",
   "execution_count": 41,
   "id": "cb58f7ed",
   "metadata": {
    "scrolled": true
   },
   "outputs": [
    {
     "data": {
      "image/png": "[encoded data removed]",
      "text/plain": [
       "<Figure size 432x288 with 1 Axes>"
      ]
     },
     "metadata": {
      "needs_background": "light"
     },
     "output_type": "display_data"
    }
   ],
   "source": [
    "tp_by_dg_bar = pd.DataFrame(ttl_tp_by_dg).plot(\n",
    "    kind = 'bar', \n",
    "    legend = False,\n",
    "    title = 'Total Number of Timepoints for All Mice by Drug Regimen',\n",
    "    ylabel = 'Number of Timepoints'\n",
    ")"
   ]
  },
  {
   "cell_type": "markdown",
   "id": "6397c69c",
   "metadata": {},
   "source": [
    "**Second Bar Plot: Matplotlib's `.pyplot()` Method**"
   ]
  },
  {
   "cell_type": "code",
   "execution_count": 43,
   "id": "056d506a",
   "metadata": {
    "scrolled": true
   },
   "outputs": [
    {
     "data": {
      "image/png": "[encoded data removed]",
      "text/plain": [
       "<Figure size 432x288 with 1 Axes>"
      ]
     },
     "metadata": {
      "needs_background": "light"
     },
     "output_type": "display_data"
    }
   ],
   "source": [
    "plt.bar(ttl_tp_by_dg.index, ttl_tp_by_dg, width = 0.5)\n",
    "plt.xticks(rotation = 90)\n",
    "plt.title('Total Number of Timepoints for All Mice by Drug Regimen')\n",
    "plt.xlabel('Drug Regimen')\n",
    "plt.ylabel('Number of Timepoints')\n",
    "plt.show()"
   ]
  },
  {
   "cell_type": "markdown",
   "id": "f2ab5dbc",
   "metadata": {},
   "source": [
    "### Pie Charts\n",
    "Generate two pie plots. Both plots should be identical and show the distribution of female or male mice in the study.\n",
    "- Create the first pie plot by using both Pandas's DataFrame.plot().\n",
    "- Create the second pie plot by using Matplotlib's pyplot methods."
   ]
  },
  {
   "cell_type": "code",
   "execution_count": 17,
   "id": "353755db",
   "metadata": {},
   "outputs": [],
   "source": [
    "# Create DataFrameGroupBy object on Drug Regimen.\n",
    "sex_grp = df.groupby('Sex')\n",
    "\n",
    "# Generate Series of total number of mice by Sex.\n",
    "cnt_by_sex = sex_grp['Mouse ID'].count()\n",
    "\n",
    "# Sort Series, descending.\n",
    "cnt_by_sex = cnt_by_sex.sort_index(ascending = False)"
   ]
  },
  {
   "cell_type": "markdown",
   "id": "e7c65955",
   "metadata": {},
   "source": [
    "**First Pie Plot: Pandas's `DataFrame.plot()` Method**"
   ]
  },
  {
   "cell_type": "code",
   "execution_count": 18,
   "id": "77418691",
   "metadata": {},
   "outputs": [
    {
     "data": {
      "image/png": "[encoded data removed]",
      "text/plain": [
       "<Figure size 432x288 with 1 Axes>"
      ]
     },
     "metadata": {},
     "output_type": "display_data"
    }
   ],
   "source": [
    "cnt_by_sex_pie = pd.DataFrame(cnt_by_sex).plot(\n",
    "    kind = 'pie',\n",
    "    y = 'Mouse ID',\n",
    "    title = 'Distribution of Sex',\n",
    "    legend = False,\n",
    "    autopct = '%1.2f%%',\n",
    "    ylabel = 'Sex'\n",
    ")"
   ]
  },
  {
   "cell_type": "markdown",
   "id": "10e5e2fe",
   "metadata": {},
   "source": [
    "**Second Pie Plot: Matplotlib's `.pyplot()` Method**"
   ]
  },
  {
   "cell_type": "code",
   "execution_count": 19,
   "id": "ad502726",
   "metadata": {
    "scrolled": false
   },
   "outputs": [
    {
     "data": {
      "image/png": "[encoded data removed]",
      "text/plain": [
       "<Figure size 432x288 with 1 Axes>"
      ]
     },
     "metadata": {},
     "output_type": "display_data"
    }
   ],
   "source": [
    "plt.pie(cnt_by_sex, labels = cnt_by_sex.index, autopct = '%1.2f%%')\n",
    "plt.title('Distribution of Sex')\n",
    "plt.ylabel('Sex')\n",
    "plt.show()"
   ]
  },
  {
   "cell_type": "markdown",
   "id": "32a89977",
   "metadata": {},
   "source": [
    "## 4. Calculate Quartiles, Find Outliers, and Create a Box Plot\n",
    "Calculate the final tumor volume of each mouse across four of the most promising treatment regimens: Capomulin, Ramicane, Infubinol, and Ceftamin."
   ]
  },
  {
   "cell_type": "markdown",
   "id": "6ddc91c8",
   "metadata": {},
   "source": [
    "- Create a grouped DataFrame that shows the last (greatest) Timepoint for each mouse. Merge this grouped DataFrame with the original cleaned DataFrame."
   ]
  },
  {
   "cell_type": "code",
   "execution_count": 20,
   "id": "9204edc6",
   "metadata": {},
   "outputs": [],
   "source": [
    "# Create DataFrameGroupBy object on Mouse ID.\n",
    "mouse_grp = df.groupby('Mouse ID')"
   ]
  },
  {
   "cell_type": "code",
   "execution_count": 22,
   "id": "4c1623fe",
   "metadata": {},
   "outputs": [],
   "source": [
    "# Determine the greatest Timepoint per Mouse ID and store in a DataFrame.\n",
    "last_tp_by_mouse_df = pd.DataFrame(mouse_grp['Timepoint'].max())"
   ]
  },
  {
   "cell_type": "code",
   "execution_count": 23,
   "id": "03364b92",
   "metadata": {
    "scrolled": false
   },
   "outputs": [],
   "source": [
    "# Merge DataFrame with the original DataFrame to assign Tumor Volume at the greatest Timepoint (\"Last Tumor Volume by Mouse\" DataFrame).\n",
    "last_tvol_by_mouse_df = pd.merge(\n",
    "    last_tp_by_mouse_df,\n",
    "    df,\n",
    "    how = 'left',\n",
    "    on = ['Mouse ID', 'Timepoint']\n",
    ")"
   ]
  },
  {
   "cell_type": "markdown",
   "id": "43890932",
   "metadata": {},
   "source": [
    "- Create a list that holds the treatment names, as well as a second, empty list to hold the tumor volume data."
   ]
  },
  {
   "cell_type": "code",
   "execution_count": 24,
   "id": "ee57affc",
   "metadata": {},
   "outputs": [],
   "source": [
    "top4_dg_lst = ['Capomulin', 'Ramicane', 'Infubinol', 'Ceftamin']\n",
    "top4_tvol_lst = []"
   ]
  },
  {
   "cell_type": "markdown",
   "id": "3c73c634",
   "metadata": {},
   "source": [
    "- Loop through each drug in the treatment list, locating the rows in the merged DataFrame that correspond to each treatment. Append the resulting final tumor volumes for each drug to the empty list."
   ]
  },
  {
   "cell_type": "code",
   "execution_count": 25,
   "id": "5661545d",
   "metadata": {},
   "outputs": [],
   "source": [
    "for dg in top4_dg_lst:\n",
    "    dg_tvol_lst = [] # Set empty list to append the Drug Regimen's Tumor Volumes.\n",
    "    for i in last_tvol_by_mouse_df.index: # Loop through each row in \"Last Tumor Volume by Mouse\" DataFrame.\n",
    "        if dg == last_tvol_by_mouse_df['Drug Regimen'][i]: \n",
    "            dg_tvol_lst.append(last_tvol_by_mouse_df['Tumor Volume (mm3)'][i]) # Add Tumor Volume to Drug Regimen's Tumor Volumes list.\n",
    "    top4_tvol_lst.append(dg_tvol_lst) # Append Drug Regimen's Tumor Volumes list to the overall Top 4 Drug Regimen's Tumor Volumes list."
   ]
  },
  {
   "cell_type": "markdown",
   "id": "6e87694b",
   "metadata": {},
   "source": [
    "- Calculate the quartiles and IQR and determine if there are any potential outliers across all four treatment regimens. Determine outliers by using the upper and lower bounds, and then print the results."
   ]
  },
  {
   "cell_type": "code",
   "execution_count": 27,
   "id": "44226963",
   "metadata": {
    "scrolled": true
   },
   "outputs": [
    {
     "name": "stdout",
     "output_type": "stream",
     "text": [
      "Capomulin's potential outliers: Series([], Name: Tumor Volume (mm3), dtype: float64)\n",
      "Ramicane's potential outliers: Series([], Name: Tumor Volume (mm3), dtype: float64)\n",
      "Infubinol's potential outliers: 5    36.321346\n",
      "Name: Tumor Volume (mm3), dtype: float64\n",
      "Ceftamin's potential outliers: Series([], Name: Tumor Volume (mm3), dtype: float64)\n"
     ]
    }
   ],
   "source": [
    "for i in range(len(top4_tvol_lst)):\n",
    "    tvol_ser = pd.Series(top4_tvol_lst[i], name = 'Tumor Volume (mm3)')\n",
    "    quartiles = tvol_ser.quantile([.25, .5, .75])\n",
    "    lowerq = quartiles[.25]\n",
    "    upperq = quartiles[.75]\n",
    "    iqr = upperq - lowerq\n",
    "\n",
    "    lower_bound = lowerq - (1.5 * iqr)\n",
    "    upper_bound = upperq + (1.5 * iqr)\n",
    "\n",
    "    print(f\"{top4_dg_lst[i]}'s potential outliers: {tvol_ser[(tvol_ser < lower_bound) | (tvol_ser > upper_bound)]}\")"
   ]
  },
  {
   "cell_type": "markdown",
   "id": "c3ef7abf",
   "metadata": {},
   "source": [
    "- Using Matplotlib, generate a box plot of the final tumor volume for all four treatment regimens. Highlight any potential outliers in the plot by changing their color and style.\n",
    "\n",
    "*Hint*: All four box plots should be within the same figure. Use this Matplotlib documentation page for help with changing the style of the outliers."
   ]
  },
  {
   "cell_type": "code",
   "execution_count": 30,
   "id": "179bea94",
   "metadata": {},
   "outputs": [
    {
     "data": {
      "image/png": "[encoded data removed]",
      "text/plain": [
       "<Figure size 432x288 with 1 Axes>"
      ]
     },
     "metadata": {
      "needs_background": "light"
     },
     "output_type": "display_data"
    }
   ],
   "source": [
    "fig, ax = plt.subplots()\n",
    "ax.set_title('Final Tumor Volumes for Top 4 Drug Regimens')\n",
    "ax.set_ylabel('Final Tumor Volume (mm3)')\n",
    "flierprops = dict(\n",
    "    marker = 'o', \n",
    "    markerfacecolor = 'r', \n",
    "    markersize = 12, \n",
    "    linestyle = 'none', \n",
    "    markeredgecolor = 'black'\n",
    ")\n",
    "ax.boxplot(top4_tvol_lst, labels = top4_dg_lst, flierprops = flierprops)\n",
    "plt.show()"
   ]
  },
  {
   "cell_type": "markdown",
   "id": "d0115d2c",
   "metadata": {},
   "source": [
    "## 5. Create a Line Plot and a Scatter Plot\n",
    "- Select a mouse that was treated with Capomulin and generate a line plot of tumor volume vs. time point for that mouse."
   ]
  },
  {
   "cell_type": "code",
   "execution_count": 31,
   "id": "46b1e38a",
   "metadata": {},
   "outputs": [
    {
     "data": {
      "text/plain": [
       "array(['b128', 'j246', 'r554', 's185', 'b742', 'x401', 'l509', 's710',\n",
       "       'r157', 'u364', 'j119', 'v923', 'w914', 'i738', 'r944', 'y793',\n",
       "       'g316', 'g288', 'l897', 'w150', 't565', 'i557', 'm957', 'f966',\n",
       "       'm601'], dtype=object)"
      ]
     },
     "execution_count": 31,
     "metadata": {},
     "output_type": "execute_result"
    }
   ],
   "source": [
    "# List mice IDs with Capomulin.\n",
    "capomulin_df = df[df['Drug Regimen'] == 'Capomulin']\n",
    "capomulin_df['Mouse ID'].unique()"
   ]
  },
  {
   "cell_type": "code",
   "execution_count": 32,
   "id": "571a7b77",
   "metadata": {
    "scrolled": false
   },
   "outputs": [
    {
     "data": {
      "image/png": "[encoded data removed]",
      "text/plain": [
       "<Figure size 432x288 with 1 Axes>"
      ]
     },
     "metadata": {
      "needs_background": "light"
     },
     "output_type": "display_data"
    }
   ],
   "source": [
    "mouse = 'b128' # Selected a random Mouse ID.\n",
    "mouse_df = df[df['Mouse ID'] == mouse]\n",
    "\n",
    "plt.plot(\n",
    "    mouse_df['Timepoint'],\n",
    "    mouse_df['Tumor Volume (mm3)'],\n",
    ")\n",
    "plt.title('Capomulin Treatment of Mouse ID \"b128\"')\n",
    "plt.xlabel('Timepoint (Days)')\n",
    "plt.ylabel('Tumor Volume (mm3)')\n",
    "plt.show()"
   ]
  },
  {
   "cell_type": "markdown",
   "id": "68388b72",
   "metadata": {},
   "source": [
    "- Create DataFrameGroupBy object on Mouse ID from filtered DataFrame of Capomulin."
   ]
  },
  {
   "cell_type": "code",
   "execution_count": 33,
   "id": "29c8f139",
   "metadata": {},
   "outputs": [],
   "source": [
    "capomulin_by_mouse_grp = capomulin_df.groupby('Mouse ID')\n",
    "avg_tvol_by_mouse_capo_df = capomulin_by_mouse_grp[['Weight (g)', 'Tumor Volume (mm3)']].mean()"
   ]
  },
  {
   "cell_type": "markdown",
   "id": "fce0decb",
   "metadata": {},
   "source": [
    "- Generate a scatter plot of tumor volume versus mouse weight for the Capomulin treatment regimen."
   ]
  },
  {
   "cell_type": "code",
   "execution_count": 36,
   "id": "74ae3e9a",
   "metadata": {},
   "outputs": [
    {
     "data": {
      "image/png": "[encoded data removed]",
      "text/plain": [
       "<Figure size 432x288 with 1 Axes>"
      ]
     },
     "metadata": {
      "needs_background": "light"
     },
     "output_type": "display_data"
    }
   ],
   "source": [
    "plt.scatter(\n",
    "    avg_tvol_by_mouse_capo_df['Weight (g)'],\n",
    "    avg_tvol_by_mouse_capo_df['Tumor Volume (mm3)']\n",
    ")\n",
    "plt.title('Capomulin: Tumor Volume vs. Mouse Weight')\n",
    "plt.xlabel('Weight (g)')\n",
    "plt.ylabel('Average Tumor Volume (mm3)')\n",
    "plt.show()"
   ]
  },
  {
   "cell_type": "markdown",
   "id": "fa42f807",
   "metadata": {},
   "source": [
    "# 6. Calculate Correlation and Regression"
   ]
  },
  {
   "cell_type": "markdown",
   "id": "ff7b515b",
   "metadata": {},
   "source": [
    "- Calculate the correlation coefficient and linear regression model between mouse weight and average tumor volume for the Capomulin treatment."
   ]
  },
  {
   "cell_type": "code",
   "execution_count": 37,
   "id": "a89c28a6",
   "metadata": {},
   "outputs": [
    {
     "name": "stdout",
     "output_type": "stream",
     "text": [
      "The correlation between mouse weight (g) and average tumor volume (mm3) is 0.84.\n"
     ]
    }
   ],
   "source": [
    "wgt_tvol_corr = st.pearsonr(\n",
    "    avg_tvol_by_mouse_capo_df['Weight (g)'],\n",
    "    avg_tvol_by_mouse_capo_df['Tumor Volume (mm3)']\n",
    ")\n",
    "print(f\"The correlation between mouse weight (g) and average tumor volume (mm3) is {round(wgt_tvol_corr[0], 2)}.\")"
   ]
  },
  {
   "cell_type": "markdown",
   "id": "1df2973a",
   "metadata": {},
   "source": [
    "- Plot the linear regression model on top of the previous scatter plot."
   ]
  },
  {
   "cell_type": "code",
   "execution_count": 38,
   "id": "81fc5e10",
   "metadata": {},
   "outputs": [],
   "source": [
    "# Perform linear regression on mouse weight (g) versus average tumor volume (mm3).\n",
    "_slope, _int, _r, _p, _std_err = st.linregress(\n",
    "    avg_tvol_by_mouse_capo_df['Weight (g)'],\n",
    "    avg_tvol_by_mouse_capo_df['Tumor Volume (mm3)']\n",
    ")\n",
    "\n",
    "# Create line equation for best linear fit.\n",
    "_fit = _slope * avg_tvol_by_mouse_capo_df['Weight (g)'] + _int"
   ]
  },
  {
   "cell_type": "code",
   "execution_count": 39,
   "id": "ae0a8d28",
   "metadata": {},
   "outputs": [
    {
     "data": {
      "image/png": "[encoded data removed]",
      "text/plain": [
       "<Figure size 432x288 with 1 Axes>"
      ]
     },
     "metadata": {
      "needs_background": "light"
     },
     "output_type": "display_data"
    }
   ],
   "source": [
    "plt.scatter(\n",
    "    avg_tvol_by_mouse_capo_df['Weight (g)'],\n",
    "    avg_tvol_by_mouse_capo_df['Tumor Volume (mm3)']\n",
    ")\n",
    "plt.title('Capomulin: Tumor Volume vs. Mouse Weight')\n",
    "plt.xlabel('Weight (g)')\n",
    "plt.ylabel('Average Tumor Volume (mm3)')\n",
    "\n",
    "plt.plot(\n",
    "    avg_tvol_by_mouse_capo_df['Weight (g)'],\n",
    "    _fit,\n",
    "    \"r-\"\n",
    ")\n",
    "line_eq = f\"y = {str(round(_slope, 2))}x + {str(round(_int, 2))}\"\n",
    "plt.annotate(line_eq, (25, 46), color = 'red')\n",
    "plt.show()"
   ]
  },
  {
   "cell_type": "markdown",
   "id": "e01345d2",
   "metadata": {},
   "source": [
    "# 7. Submit Your Final Analysis\n",
    "Review all the figures and tables that you generated in this assignment. Write at least three observations or inferences that can be made from the data. Include these observations at the top of your notebook."
   ]
  }
 ],
 "metadata": {
  "kernelspec": {
   "display_name": "PythonData",
   "language": "python",
   "name": "pythondata"
  },
  "language_info": {
   "codemirror_mode": {
    "name": "ipython",
    "version": 3
   },
   "file_extension": ".py",
   "mimetype": "text/x-python",
   "name": "python",
   "nbconvert_exporter": "python",
   "pygments_lexer": "ipython3",
   "version": "3.9.7"
  }
 },
 "nbformat": 4,
 "nbformat_minor": 5
}
